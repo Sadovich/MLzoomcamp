{
 "cells": [
  {
   "cell_type": "markdown",
   "id": "80635ea8",
   "metadata": {},
   "source": [
    "# HomeWork2"
   ]
  },
  {
   "cell_type": "markdown",
   "id": "d0fc6699",
   "metadata": {},
   "source": [
    "https://github.com/alexeygrigorev/mlbookcamp-code/blob/master/course-zoomcamp/cohorts/2022/02-regression/homework.md"
   ]
  },
  {
   "cell_type": "markdown",
   "id": "79e791e6",
   "metadata": {},
   "source": [
    "## import modules"
   ]
  },
  {
   "cell_type": "code",
   "execution_count": 243,
   "id": "ecaa573e",
   "metadata": {},
   "outputs": [],
   "source": [
    "import numpy as np\n",
    "import pandas as pd"
   ]
  },
  {
   "cell_type": "code",
   "execution_count": 244,
   "id": "ef44defc",
   "metadata": {},
   "outputs": [],
   "source": [
    "# get data\n",
    "# https://raw.githubusercontent.com/alexeygrigorev/datasets/master/housing.csv"
   ]
  },
  {
   "cell_type": "code",
   "execution_count": 245,
   "id": "3f0a8cc1",
   "metadata": {},
   "outputs": [
    {
     "name": "stdout",
     "output_type": "stream",
     "text": [
      "--2022-09-18 18:06:14--  https://raw.githubusercontent.com/alexeygrigorev/datasets/master/housing.csv\n",
      "Resolving raw.githubusercontent.com (raw.githubusercontent.com)... 185.199.110.133, 185.199.108.133, 185.199.111.133, ...\n",
      "Connecting to raw.githubusercontent.com (raw.githubusercontent.com)|185.199.110.133|:443... connected.\n",
      "HTTP request sent, awaiting response... 200 OK\n",
      "Length: 1423529 (1,4M) [text/plain]\n",
      "Saving to: ‘housing.csv.1’\n",
      "\n",
      "housing.csv.1       100%[===================>]   1,36M   123KB/s    in 9,0s    \n",
      "\n",
      "2022-09-18 18:06:24 (154 KB/s) - ‘housing.csv.1’ saved [1423529/1423529]\n",
      "\n"
     ]
    }
   ],
   "source": [
    "!wget https://raw.githubusercontent.com/alexeygrigorev/datasets/master/housing.csv"
   ]
  },
  {
   "cell_type": "code",
   "execution_count": 246,
   "id": "dfd0ac8b",
   "metadata": {},
   "outputs": [],
   "source": [
    "df = pd.read_csv('housing.csv')"
   ]
  },
  {
   "cell_type": "code",
   "execution_count": 247,
   "id": "8cefa9a8",
   "metadata": {},
   "outputs": [
    {
     "data": {
      "text/html": [
       "<div>\n",
       "<style scoped>\n",
       "    .dataframe tbody tr th:only-of-type {\n",
       "        vertical-align: middle;\n",
       "    }\n",
       "\n",
       "    .dataframe tbody tr th {\n",
       "        vertical-align: top;\n",
       "    }\n",
       "\n",
       "    .dataframe thead th {\n",
       "        text-align: right;\n",
       "    }\n",
       "</style>\n",
       "<table border=\"1\" class=\"dataframe\">\n",
       "  <thead>\n",
       "    <tr style=\"text-align: right;\">\n",
       "      <th></th>\n",
       "      <th>longitude</th>\n",
       "      <th>latitude</th>\n",
       "      <th>housing_median_age</th>\n",
       "      <th>total_rooms</th>\n",
       "      <th>total_bedrooms</th>\n",
       "      <th>population</th>\n",
       "      <th>households</th>\n",
       "      <th>median_income</th>\n",
       "      <th>median_house_value</th>\n",
       "      <th>ocean_proximity</th>\n",
       "    </tr>\n",
       "  </thead>\n",
       "  <tbody>\n",
       "    <tr>\n",
       "      <th>0</th>\n",
       "      <td>-122.23</td>\n",
       "      <td>37.88</td>\n",
       "      <td>41.0</td>\n",
       "      <td>880.0</td>\n",
       "      <td>129.0</td>\n",
       "      <td>322.0</td>\n",
       "      <td>126.0</td>\n",
       "      <td>8.3252</td>\n",
       "      <td>452600.0</td>\n",
       "      <td>NEAR BAY</td>\n",
       "    </tr>\n",
       "    <tr>\n",
       "      <th>1</th>\n",
       "      <td>-122.22</td>\n",
       "      <td>37.86</td>\n",
       "      <td>21.0</td>\n",
       "      <td>7099.0</td>\n",
       "      <td>1106.0</td>\n",
       "      <td>2401.0</td>\n",
       "      <td>1138.0</td>\n",
       "      <td>8.3014</td>\n",
       "      <td>358500.0</td>\n",
       "      <td>NEAR BAY</td>\n",
       "    </tr>\n",
       "    <tr>\n",
       "      <th>2</th>\n",
       "      <td>-122.24</td>\n",
       "      <td>37.85</td>\n",
       "      <td>52.0</td>\n",
       "      <td>1467.0</td>\n",
       "      <td>190.0</td>\n",
       "      <td>496.0</td>\n",
       "      <td>177.0</td>\n",
       "      <td>7.2574</td>\n",
       "      <td>352100.0</td>\n",
       "      <td>NEAR BAY</td>\n",
       "    </tr>\n",
       "    <tr>\n",
       "      <th>3</th>\n",
       "      <td>-122.25</td>\n",
       "      <td>37.85</td>\n",
       "      <td>52.0</td>\n",
       "      <td>1274.0</td>\n",
       "      <td>235.0</td>\n",
       "      <td>558.0</td>\n",
       "      <td>219.0</td>\n",
       "      <td>5.6431</td>\n",
       "      <td>341300.0</td>\n",
       "      <td>NEAR BAY</td>\n",
       "    </tr>\n",
       "    <tr>\n",
       "      <th>4</th>\n",
       "      <td>-122.25</td>\n",
       "      <td>37.85</td>\n",
       "      <td>52.0</td>\n",
       "      <td>1627.0</td>\n",
       "      <td>280.0</td>\n",
       "      <td>565.0</td>\n",
       "      <td>259.0</td>\n",
       "      <td>3.8462</td>\n",
       "      <td>342200.0</td>\n",
       "      <td>NEAR BAY</td>\n",
       "    </tr>\n",
       "  </tbody>\n",
       "</table>\n",
       "</div>"
      ],
      "text/plain": [
       "   longitude  latitude  housing_median_age  total_rooms  total_bedrooms  \\\n",
       "0    -122.23     37.88                41.0        880.0           129.0   \n",
       "1    -122.22     37.86                21.0       7099.0          1106.0   \n",
       "2    -122.24     37.85                52.0       1467.0           190.0   \n",
       "3    -122.25     37.85                52.0       1274.0           235.0   \n",
       "4    -122.25     37.85                52.0       1627.0           280.0   \n",
       "\n",
       "   population  households  median_income  median_house_value ocean_proximity  \n",
       "0       322.0       126.0         8.3252            452600.0        NEAR BAY  \n",
       "1      2401.0      1138.0         8.3014            358500.0        NEAR BAY  \n",
       "2       496.0       177.0         7.2574            352100.0        NEAR BAY  \n",
       "3       558.0       219.0         5.6431            341300.0        NEAR BAY  \n",
       "4       565.0       259.0         3.8462            342200.0        NEAR BAY  "
      ]
     },
     "execution_count": 247,
     "metadata": {},
     "output_type": "execute_result"
    }
   ],
   "source": [
    "df.head()"
   ]
  },
  {
   "cell_type": "code",
   "execution_count": 248,
   "id": "06a5f8ab",
   "metadata": {},
   "outputs": [
    {
     "data": {
      "text/plain": [
       "(20640, 10)"
      ]
     },
     "execution_count": 248,
     "metadata": {},
     "output_type": "execute_result"
    }
   ],
   "source": [
    "df.shape"
   ]
  },
  {
   "cell_type": "code",
   "execution_count": 249,
   "id": "b908b841",
   "metadata": {},
   "outputs": [],
   "source": [
    "import matplotlib.pyplot as plt\n",
    "import seaborn as sns\n",
    "\n",
    "%matplotlib inline"
   ]
  },
  {
   "cell_type": "code",
   "execution_count": 250,
   "id": "29a64ad5",
   "metadata": {},
   "outputs": [
    {
     "data": {
      "text/plain": [
       "<AxesSubplot:xlabel='median_house_value', ylabel='Count'>"
      ]
     },
     "execution_count": 250,
     "metadata": {},
     "output_type": "execute_result"
    },
    {
     "data": {
      "image/png": "[encoded data removed]",
      "text/plain": [
       "<Figure size 432x288 with 1 Axes>"
      ]
     },
     "metadata": {
      "needs_background": "light"
     },
     "output_type": "display_data"
    }
   ],
   "source": [
    "sns.histplot(df.median_house_value, bins=50)"
   ]
  },
  {
   "cell_type": "code",
   "execution_count": 251,
   "id": "0b23b767",
   "metadata": {},
   "outputs": [],
   "source": [
    "data_columns = [\n",
    "    'latitude',\n",
    "    'longitude',\n",
    "    'housing_median_age',\n",
    "    'total_rooms',\n",
    "    'total_bedrooms',\n",
    "    'population',\n",
    "    'households',\n",
    "    'median_income',\n",
    "    'median_house_value']"
   ]
  },
  {
   "cell_type": "code",
   "execution_count": 252,
   "id": "1d4b0205",
   "metadata": {},
   "outputs": [],
   "source": [
    "df = df[data_columns]"
   ]
  },
  {
   "cell_type": "code",
   "execution_count": 253,
   "id": "8554576f",
   "metadata": {},
   "outputs": [
    {
     "data": {
      "text/plain": [
       "latitude                0\n",
       "longitude               0\n",
       "housing_median_age      0\n",
       "total_rooms             0\n",
       "total_bedrooms        207\n",
       "population              0\n",
       "households              0\n",
       "median_income           0\n",
       "median_house_value      0\n",
       "dtype: int64"
      ]
     },
     "execution_count": 253,
     "metadata": {},
     "output_type": "execute_result"
    }
   ],
   "source": [
    "# question  1\n",
    "df.isnull().sum()"
   ]
  },
  {
   "cell_type": "code",
   "execution_count": 254,
   "id": "ba313599",
   "metadata": {},
   "outputs": [
    {
     "data": {
      "text/plain": [
       "1166.0"
      ]
     },
     "execution_count": 254,
     "metadata": {},
     "output_type": "execute_result"
    }
   ],
   "source": [
    "# question 2\n",
    "df.population.median()"
   ]
  },
  {
   "cell_type": "markdown",
   "id": "efee366e",
   "metadata": {},
   "source": [
    "splitting the data:\n",
    "\n",
    "    Shuffle the initial dataset, use seed 42.\n",
    "    Split your data in train/val/test sets, with 60%/20%/20% distribution.\n",
    "    Make sure that the target value ('median_house_value') is not in your dataframe.\n",
    "    Apply the log transformation to the median_house_value variable using the np.log1p() function.\n"
   ]
  },
  {
   "cell_type": "code",
   "execution_count": 255,
   "id": "d9d027e0",
   "metadata": {},
   "outputs": [],
   "source": [
    "n = len(df)\n",
    "index = np.arange(n)\n",
    "np.random.seed(42)\n",
    "np.random.shuffle(index)"
   ]
  },
  {
   "cell_type": "code",
   "execution_count": 256,
   "id": "9e632347",
   "metadata": {},
   "outputs": [
    {
     "data": {
      "text/plain": [
       "(20640, 12384, 4128, 4128)"
      ]
     },
     "execution_count": 256,
     "metadata": {},
     "output_type": "execute_result"
    }
   ],
   "source": [
    "n_train = int(n*0.6)\n",
    "n_val = int(n*0.2)\n",
    "n_test = n - n_train - n_val\n",
    "n, n_train, n_val, n_test"
   ]
  },
  {
   "cell_type": "code",
   "execution_count": 257,
   "id": "06dfe133",
   "metadata": {},
   "outputs": [],
   "source": [
    "df_train = df.iloc[index[:n_train]]\n",
    "df_val = df.iloc[index[n_train: n_train + n_val]]\n",
    "df_test = df.iloc[index[n_train + n_val:]]"
   ]
  },
  {
   "cell_type": "code",
   "execution_count": 258,
   "id": "2080527d",
   "metadata": {},
   "outputs": [],
   "source": [
    "y_train = df_train.median_house_value\n",
    "y_val = df_val.median_house_value\n",
    "y_test = df_test.median_house_value"
   ]
  },
  {
   "cell_type": "code",
   "execution_count": 259,
   "id": "64a567f5",
   "metadata": {},
   "outputs": [
    {
     "data": {
      "text/plain": [
       "((12384, 9), (4128, 9), (4128, 9))"
      ]
     },
     "execution_count": 259,
     "metadata": {},
     "output_type": "execute_result"
    }
   ],
   "source": [
    "df_train.shape, df_val.shape, df_test.shape"
   ]
  },
  {
   "cell_type": "code",
   "execution_count": 260,
   "id": "2ec09edf",
   "metadata": {},
   "outputs": [],
   "source": [
    "del df_train['median_house_value']\n",
    "del df_val['median_house_value']\n",
    "del df_test['median_house_value']"
   ]
  },
  {
   "cell_type": "code",
   "execution_count": 261,
   "id": "59cf7d74",
   "metadata": {},
   "outputs": [
    {
     "data": {
      "text/plain": [
       "((12384, 8), (4128, 8), (4128, 8))"
      ]
     },
     "execution_count": 261,
     "metadata": {},
     "output_type": "execute_result"
    }
   ],
   "source": [
    "df_train.shape, df_val.shape, df_test.shape"
   ]
  },
  {
   "cell_type": "code",
   "execution_count": 262,
   "id": "6e95c984",
   "metadata": {},
   "outputs": [
    {
     "data": {
      "text/plain": [
       "<AxesSubplot:xlabel='median_house_value', ylabel='Count'>"
      ]
     },
     "execution_count": 262,
     "metadata": {},
     "output_type": "execute_result"
    },
    {
     "data": {
      "image/png": "[encoded data removed]",
      "text/plain": [
       "<Figure size 432x288 with 1 Axes>"
      ]
     },
     "metadata": {
      "needs_background": "light"
     },
     "output_type": "display_data"
    }
   ],
   "source": [
    "sns.histplot(y_train, bins=50)"
   ]
  },
  {
   "cell_type": "code",
   "execution_count": 263,
   "id": "6695b56c",
   "metadata": {},
   "outputs": [],
   "source": [
    "y_train_log = np.log1p(y_train)\n",
    "y_val_log = np.log1p(y_val)\n",
    "y_test_log = np.log1p(y_test)"
   ]
  },
  {
   "cell_type": "code",
   "execution_count": 264,
   "id": "805ec6ff",
   "metadata": {},
   "outputs": [
    {
     "data": {
      "text/plain": [
       "<AxesSubplot:xlabel='median_house_value', ylabel='Count'>"
      ]
     },
     "execution_count": 264,
     "metadata": {},
     "output_type": "execute_result"
    },
    {
     "data": {
      "image/png": "[encoded data removed]",
      "text/plain": [
       "<Figure size 432x288 with 1 Axes>"
      ]
     },
     "metadata": {
      "needs_background": "light"
     },
     "output_type": "display_data"
    }
   ],
   "source": [
    "sns.histplot(y_train_log, bins=50)"
   ]
  },
  {
   "cell_type": "code",
   "execution_count": 265,
   "id": "ad125a8c",
   "metadata": {},
   "outputs": [],
   "source": [
    "# question 3"
   ]
  },
  {
   "cell_type": "code",
   "execution_count": 266,
   "id": "9ad49599",
   "metadata": {},
   "outputs": [],
   "source": [
    "data_columns_m = [\n",
    "    'latitude',\n",
    "    'longitude',\n",
    "    'housing_median_age',\n",
    "    'total_rooms',\n",
    "    'total_bedrooms',\n",
    "    'population',\n",
    "    'households',\n",
    "    'median_income']"
   ]
  },
  {
   "cell_type": "code",
   "execution_count": 267,
   "id": "7c63b00c",
   "metadata": {},
   "outputs": [],
   "source": [
    "def mrse(y_val, y):\n",
    "    se = y_val - y\n",
    "    sse = se ** 2\n",
    "    mse = sse.mean()\n",
    "    return(np.sqrt(mse))"
   ]
  },
  {
   "cell_type": "code",
   "execution_count": 268,
   "id": "73a9ac3e",
   "metadata": {},
   "outputs": [],
   "source": [
    "def prepare_x_values(df, columns_name, fill_zeros_value):\n",
    "    df = df.copy()\n",
    "\n",
    "    df_num = df[columns_name]\n",
    "    df_num = df_num.fillna(fill_zeros_value)\n",
    "    X = df_num.values\n",
    "    return X"
   ]
  },
  {
   "cell_type": "code",
   "execution_count": 269,
   "id": "b0104d4a",
   "metadata": {},
   "outputs": [],
   "source": [
    "def train_linear_regression(X, y):\n",
    "    ones = np.ones(X.shape[0])\n",
    "    X = np.column_stack([ones, X])\n",
    "    \n",
    "    XTX = X.T.dot(X)\n",
    "    XTX_inv = np.linalg.inv(XTX)\n",
    "    w_full = XTX_inv.dot(X.T).dot(y)\n",
    "    \n",
    "    return(w_full[0], w_full[1:])"
   ]
  },
  {
   "cell_type": "code",
   "execution_count": 270,
   "id": "007551e9",
   "metadata": {},
   "outputs": [],
   "source": [
    "X_train_1 = prepare_x_values(df_train, data_columns_m, 0)\n",
    "X_val_1 = prepare_x_values(df_val, data_columns_m, 0)"
   ]
  },
  {
   "cell_type": "code",
   "execution_count": 271,
   "id": "b130750e",
   "metadata": {},
   "outputs": [],
   "source": [
    "w0, w = train_linear_regression(X_train_1, y_train_log)"
   ]
  },
  {
   "cell_type": "code",
   "execution_count": 272,
   "id": "7472913f",
   "metadata": {},
   "outputs": [
    {
     "data": {
      "text/plain": [
       "(-11.686975241966877,\n",
       " array([-2.82087184e-01, -2.76255120e-01,  2.91329621e-03, -8.64531514e-06,\n",
       "         1.50811922e-04, -2.08205659e-04,  5.69546573e-04,  1.71308139e-01]))"
      ]
     },
     "execution_count": 272,
     "metadata": {},
     "output_type": "execute_result"
    }
   ],
   "source": [
    "w0, w"
   ]
  },
  {
   "cell_type": "code",
   "execution_count": 273,
   "id": "115f7b4c",
   "metadata": {},
   "outputs": [
    {
     "data": {
      "text/plain": [
       "0.3295"
      ]
     },
     "execution_count": 273,
     "metadata": {},
     "output_type": "execute_result"
    }
   ],
   "source": [
    "y_pred = w0 + X_val_1.dot(w)\n",
    "round(mrse(y_pred, y_val_log), 4)"
   ]
  },
  {
   "cell_type": "code",
   "execution_count": 274,
   "id": "6e5d5f9f",
   "metadata": {},
   "outputs": [
    {
     "data": {
      "text/plain": [
       "<AxesSubplot:xlabel='median_house_value', ylabel='Count'>"
      ]
     },
     "execution_count": 274,
     "metadata": {},
     "output_type": "execute_result"
    },
    {
     "data": {
      "image/png": "[encoded data removed]",
      "text/plain": [
       "<Figure size 432x288 with 1 Axes>"
      ]
     },
     "metadata": {
      "needs_background": "light"
     },
     "output_type": "display_data"
    }
   ],
   "source": [
    "sns.histplot(y_train_log, color = 'blue')\n",
    "sns.histplot(y_val_log, color = 'red')\n",
    "sns.histplot(y_pred, color = 'green')"
   ]
  },
  {
   "cell_type": "code",
   "execution_count": 275,
   "id": "54ba90fd",
   "metadata": {},
   "outputs": [
    {
     "data": {
      "text/plain": [
       "533.4803317730147"
      ]
     },
     "execution_count": 275,
     "metadata": {},
     "output_type": "execute_result"
    }
   ],
   "source": [
    "df_train.total_bedrooms.mean()"
   ]
  },
  {
   "cell_type": "code",
   "execution_count": 276,
   "id": "9a6192ca",
   "metadata": {},
   "outputs": [
    {
     "data": {
      "text/plain": [
       "0.329"
      ]
     },
     "execution_count": 276,
     "metadata": {},
     "output_type": "execute_result"
    }
   ],
   "source": [
    "X_train_2 = prepare_x_values(df_train, data_columns_m, 533)\n",
    "X_val_2 = prepare_x_values(df_val, data_columns_m, 0)\n",
    "w0, w = train_linear_regression(X_train_2, y_train_log)\n",
    "y_pred = w0 + X_val_2.dot(w)\n",
    "round(mrse(y_pred, y_val_log), 4)"
   ]
  },
  {
   "cell_type": "code",
   "execution_count": 277,
   "id": "109dc3e4",
   "metadata": {},
   "outputs": [
    {
     "data": {
      "text/plain": [
       "<AxesSubplot:xlabel='median_house_value', ylabel='Count'>"
      ]
     },
     "execution_count": 277,
     "metadata": {},
     "output_type": "execute_result"
    },
    {
     "data": {
      "image/png": "[encoded data removed]",
      "text/plain": [
       "<Figure size 432x288 with 1 Axes>"
      ]
     },
     "metadata": {
      "needs_background": "light"
     },
     "output_type": "display_data"
    }
   ],
   "source": [
    "sns.histplot(y_train_log, color = 'blue')\n",
    "sns.histplot(y_val_log, color = 'red')\n",
    "sns.histplot(y_pred, color = 'green')"
   ]
  },
  {
   "cell_type": "code",
   "execution_count": 278,
   "id": "e41717ac",
   "metadata": {},
   "outputs": [],
   "source": [
    "def train_linear_regression_reg(X, y, r=0.001):\n",
    "    ones = np.ones(X.shape[0])\n",
    "    X = np.column_stack([ones, X])\n",
    "    \n",
    "    XTX = X.T.dot(X)\n",
    "    XTX += r * np.eye(XTX.shape[0])\n",
    "    XTX_inv = np.linalg.inv(XTX)\n",
    "    w_full = XTX_inv.dot(X.T).dot(y)\n",
    "    \n",
    "    return(w_full[0], w_full[1:])"
   ]
  },
  {
   "cell_type": "code",
   "execution_count": 279,
   "id": "65908b06",
   "metadata": {},
   "outputs": [
    {
     "name": "stdout",
     "output_type": "stream",
     "text": [
      "0 -11.686975241966877 0.33\n",
      "1e-06 -11.686959175914195 0.33\n",
      "0.0001 -11.685368865172869 0.33\n",
      "0.001 -11.670931318186463 0.33\n",
      "0.01 -11.52849358554413 0.33\n",
      "0.1 -10.274500281959998 0.33\n",
      "1 -4.920480897735361 0.33\n",
      "5 -1.4820957456410375 0.34\n",
      "10 -0.7899311832121201 0.34\n"
     ]
    }
   ],
   "source": [
    "X_train = prepare_x_values(df_train, data_columns_m, 0)\n",
    "X_val = prepare_x_values(df_val, data_columns_m, 0)\n",
    "for r in [0, 0.000001, 0.0001, 0.001, 0.01, 0.1, 1, 5, 10]:\n",
    "    w0, w = train_linear_regression_reg(X_train, y_train_log, r)\n",
    "    y_pred = w0 + X_val_2.dot(w)\n",
    "    mrserror = mrse(y_pred, y_val_log)\n",
    "    print(r, w0, round(mrserror,2))"
   ]
  },
  {
   "cell_type": "code",
   "execution_count": 280,
   "id": "e60c22f2",
   "metadata": {},
   "outputs": [],
   "source": [
    "# question 5"
   ]
  },
  {
   "cell_type": "code",
   "execution_count": 281,
   "id": "4974104f",
   "metadata": {},
   "outputs": [],
   "source": [
    "data_columns_m = [\n",
    "    'latitude',\n",
    "    'longitude',\n",
    "    'housing_median_age',\n",
    "    'total_rooms',\n",
    "    'total_bedrooms',\n",
    "    'population',\n",
    "    'households',\n",
    "    'median_income']"
   ]
  },
  {
   "cell_type": "code",
   "execution_count": 282,
   "id": "56b417ca",
   "metadata": {},
   "outputs": [],
   "source": [
    "def generate_datasets(df, seed):\n",
    "    n = len(df)\n",
    "    index = np.arange(n)\n",
    "    np.random.seed(seed)\n",
    "    np.random.shuffle(index)\n",
    "\n",
    "    n_train = int(n*0.6)\n",
    "    n_val = int(n*0.2)\n",
    "    n_test = n - n_train - n_val\n",
    "    n, n_train, n_val, n_test\n",
    "\n",
    "    df_train = df.iloc[index[:n_train]]\n",
    "    df_val = df.iloc[index[n_train: n_train + n_val]]\n",
    "    df_test = df.iloc[index[n_train + n_val:]]\n",
    "\n",
    "    y_train = df_train.median_house_value\n",
    "    y_val = df_val.median_house_value\n",
    "    y_test = df_test.median_house_value\n",
    "    \n",
    "    return(df_train, y_train, df_val, y_val, df_test, y_test)"
   ]
  },
  {
   "cell_type": "code",
   "execution_count": 283,
   "id": "9f5c85c3",
   "metadata": {},
   "outputs": [],
   "source": [
    "def train_and_evaluate_model(df_x_tr, df_x_val, data_columns, y_tr, y_val, fil_if_na = 0):\n",
    "    X_train = prepare_x_values(df_x_tr, data_columns, fil_if_na)\n",
    "    X_val = prepare_x_values(df_x_val, data_columns, 0)\n",
    "    w0, w = train_linear_regression(X_train, np.log1p(y_tr))\n",
    "    y_pred = w0 + X_val.dot(w)\n",
    "    mrserror = mrse(y_pred, np.log1p(y_val))\n",
    "    return(mrserror)"
   ]
  },
  {
   "cell_type": "code",
   "execution_count": 284,
   "id": "b08b502f",
   "metadata": {},
   "outputs": [
    {
     "name": "stdout",
     "output_type": "stream",
     "text": [
      "0 0.33884304805313953\n",
      "1 0.3362387255955907\n",
      "2 0.3320912318835943\n",
      "3 0.34051536090378665\n",
      "4 0.33890240665729654\n",
      "5 0.3434866725719505\n",
      "6 0.3451980953099508\n",
      "7 0.3395989927411364\n",
      "8 0.34662308731767183\n",
      "9 0.3365926124189891\n"
     ]
    }
   ],
   "source": [
    "rmse_scores = []\n",
    "for seed in [0, 1, 2, 3, 4, 5, 6, 7, 8, 9]:\n",
    "    df_train, y_train, df_val, y_val, df_test, y_test = generate_datasets(df, seed)\n",
    "    del df_train['median_house_value']\n",
    "    score = train_and_evaluate_model(df_train, df_val, data_columns_m, y_train, y_val, fil_if_na = 0)\n",
    "    print(seed, score)\n",
    "    rmse_scores.append(score)\n",
    "    \n",
    "    "
   ]
  },
  {
   "cell_type": "code",
   "execution_count": 285,
   "id": "07064b10",
   "metadata": {},
   "outputs": [
    {
     "data": {
      "text/plain": [
       "0.0041707719464643255"
      ]
     },
     "execution_count": 285,
     "metadata": {},
     "output_type": "execute_result"
    }
   ],
   "source": [
    "np.std(rmse_scores)"
   ]
  },
  {
   "cell_type": "code",
   "execution_count": 286,
   "id": "ea74776e",
   "metadata": {},
   "outputs": [
    {
     "data": {
      "text/plain": [
       "0.004"
      ]
     },
     "execution_count": 286,
     "metadata": {},
     "output_type": "execute_result"
    }
   ],
   "source": [
    "round(np.std(rmse_scores),3)"
   ]
  },
  {
   "cell_type": "code",
   "execution_count": 287,
   "id": "cfc2a780",
   "metadata": {},
   "outputs": [],
   "source": [
    "# question 6"
   ]
  },
  {
   "cell_type": "code",
   "execution_count": 288,
   "id": "81831380",
   "metadata": {},
   "outputs": [],
   "source": [
    "df_train, y_train, df_val, y_val, df_test, y_test = generate_datasets(df, seed)"
   ]
  },
  {
   "cell_type": "code",
   "execution_count": 289,
   "id": "ad894335",
   "metadata": {},
   "outputs": [],
   "source": [
    "df_full_train = pd.concat([df_train, df_val])"
   ]
  },
  {
   "cell_type": "code",
   "execution_count": 290,
   "id": "b464560f",
   "metadata": {},
   "outputs": [],
   "source": [
    "y_full_train = np.concatenate([y_train, y_val])"
   ]
  },
  {
   "cell_type": "code",
   "execution_count": 291,
   "id": "07b43c4a",
   "metadata": {},
   "outputs": [
    {
     "name": "stdout",
     "output_type": "stream",
     "text": [
      "-11.407983343868523 [-2.76748454e-01 -2.71992083e-01  3.36619692e-03 -2.14014248e-05\n",
      "  2.47085669e-04 -1.72981187e-04  4.51800359e-04  1.76299970e-01]\n",
      "0.35\n"
     ]
    }
   ],
   "source": [
    "X_full_train = prepare_x_values(df_full_train, data_columns_m, 0)\n",
    "w0, w = train_linear_regression_reg(X_full_train, np.log1p(y_full_train), 0.001)\n",
    "print(w0, w)\n",
    "\n",
    "X_test = prepare_x_values(df_test, data_columns_m, 0)\n",
    "X_test.shape\n",
    "y_pred = w0 + X_test.dot(w)\n",
    "mrserror = mrse(y_pred, np.log1p(y_test))\n",
    "\n",
    "print(np.round(mrserror, 2))"
   ]
  },
  {
   "cell_type": "code",
   "execution_count": null,
   "id": "9d9bc749",
   "metadata": {},
   "outputs": [],
   "source": []
  },
  {
   "cell_type": "code",
   "execution_count": null,
   "id": "bb57953d",
   "metadata": {},
   "outputs": [],
   "source": []
  }
 ],
 "metadata": {
  "kernelspec": {
   "display_name": "Python 3 (ipykernel)",
   "language": "python",
   "name": "python3"
  },
  "language_info": {
   "codemirror_mode": {
    "name": "ipython",
    "version": 3
   },
   "file_extension": ".py",
   "mimetype": "text/x-python",
   "name": "python",
   "nbconvert_exporter": "python",
   "pygments_lexer": "ipython3",
   "version": "3.9.12"
  }
 },
 "nbformat": 4,
 "nbformat_minor": 5
}
