{
 "cells": [
  {
   "cell_type": "code",
   "execution_count": 1,
   "id": "4c48f7f2",
   "metadata": {},
   "outputs": [],
   "source": [
    "import pandas as pd\n",
    "import numpy as np"
   ]
  },
  {
   "cell_type": "code",
   "execution_count": 2,
   "id": "d337e6b1",
   "metadata": {},
   "outputs": [],
   "source": [
    "import seaborn as sns\n",
    "from matplotlib import pyplot as plt\n",
    "%matplotlib inline"
   ]
  },
  {
   "cell_type": "code",
   "execution_count": 3,
   "id": "059e0cf0",
   "metadata": {},
   "outputs": [
    {
     "name": "stdout",
     "output_type": "stream",
     "text": [
      "--2023-09-25 09:49:45--  https://raw.githubusercontent.com/alexeygrigorev/datasets/master/housing.csv\n",
      "Resolving raw.githubusercontent.com (raw.githubusercontent.com)... 2606:50c0:8001::154, 2606:50c0:8003::154, 2606:50c0:8000::154, ...\n",
      "Connecting to raw.githubusercontent.com (raw.githubusercontent.com)|2606:50c0:8001::154|:443... connected.\n",
      "HTTP request sent, awaiting response... 200 OK\n",
      "Length: 1423529 (1.4M) [text/plain]\n",
      "Saving to: ‘housing.csv.7’\n",
      "\n",
      "housing.csv.7       100%[===================>]   1.36M  --.-KB/s    in 0.1s    \n",
      "\n",
      "2023-09-25 09:49:45 (12.2 MB/s) - ‘housing.csv.7’ saved [1423529/1423529]\n",
      "\n"
     ]
    }
   ],
   "source": [
    "!wget https://raw.githubusercontent.com/alexeygrigorev/datasets/master/housing.csv"
   ]
  },
  {
   "cell_type": "code",
   "execution_count": 4,
   "id": "4a46f03c",
   "metadata": {},
   "outputs": [],
   "source": [
    "df = pd.read_csv(\"housing.csv\")"
   ]
  },
  {
   "cell_type": "code",
   "execution_count": 5,
   "id": "3930876e",
   "metadata": {},
   "outputs": [
    {
     "data": {
      "text/html": [
       "<div>\n",
       "<style scoped>\n",
       "    .dataframe tbody tr th:only-of-type {\n",
       "        vertical-align: middle;\n",
       "    }\n",
       "\n",
       "    .dataframe tbody tr th {\n",
       "        vertical-align: top;\n",
       "    }\n",
       "\n",
       "    .dataframe thead th {\n",
       "        text-align: right;\n",
       "    }\n",
       "</style>\n",
       "<table border=\"1\" class=\"dataframe\">\n",
       "  <thead>\n",
       "    <tr style=\"text-align: right;\">\n",
       "      <th></th>\n",
       "      <th>longitude</th>\n",
       "      <th>latitude</th>\n",
       "      <th>housing_median_age</th>\n",
       "      <th>total_rooms</th>\n",
       "      <th>total_bedrooms</th>\n",
       "      <th>population</th>\n",
       "      <th>households</th>\n",
       "      <th>median_income</th>\n",
       "      <th>median_house_value</th>\n",
       "      <th>ocean_proximity</th>\n",
       "    </tr>\n",
       "  </thead>\n",
       "  <tbody>\n",
       "    <tr>\n",
       "      <th>0</th>\n",
       "      <td>-122.23</td>\n",
       "      <td>37.88</td>\n",
       "      <td>41.0</td>\n",
       "      <td>880.0</td>\n",
       "      <td>129.0</td>\n",
       "      <td>322.0</td>\n",
       "      <td>126.0</td>\n",
       "      <td>8.3252</td>\n",
       "      <td>452600.0</td>\n",
       "      <td>NEAR BAY</td>\n",
       "    </tr>\n",
       "    <tr>\n",
       "      <th>1</th>\n",
       "      <td>-122.22</td>\n",
       "      <td>37.86</td>\n",
       "      <td>21.0</td>\n",
       "      <td>7099.0</td>\n",
       "      <td>1106.0</td>\n",
       "      <td>2401.0</td>\n",
       "      <td>1138.0</td>\n",
       "      <td>8.3014</td>\n",
       "      <td>358500.0</td>\n",
       "      <td>NEAR BAY</td>\n",
       "    </tr>\n",
       "    <tr>\n",
       "      <th>2</th>\n",
       "      <td>-122.24</td>\n",
       "      <td>37.85</td>\n",
       "      <td>52.0</td>\n",
       "      <td>1467.0</td>\n",
       "      <td>190.0</td>\n",
       "      <td>496.0</td>\n",
       "      <td>177.0</td>\n",
       "      <td>7.2574</td>\n",
       "      <td>352100.0</td>\n",
       "      <td>NEAR BAY</td>\n",
       "    </tr>\n",
       "    <tr>\n",
       "      <th>3</th>\n",
       "      <td>-122.25</td>\n",
       "      <td>37.85</td>\n",
       "      <td>52.0</td>\n",
       "      <td>1274.0</td>\n",
       "      <td>235.0</td>\n",
       "      <td>558.0</td>\n",
       "      <td>219.0</td>\n",
       "      <td>5.6431</td>\n",
       "      <td>341300.0</td>\n",
       "      <td>NEAR BAY</td>\n",
       "    </tr>\n",
       "    <tr>\n",
       "      <th>4</th>\n",
       "      <td>-122.25</td>\n",
       "      <td>37.85</td>\n",
       "      <td>52.0</td>\n",
       "      <td>1627.0</td>\n",
       "      <td>280.0</td>\n",
       "      <td>565.0</td>\n",
       "      <td>259.0</td>\n",
       "      <td>3.8462</td>\n",
       "      <td>342200.0</td>\n",
       "      <td>NEAR BAY</td>\n",
       "    </tr>\n",
       "  </tbody>\n",
       "</table>\n",
       "</div>"
      ],
      "text/plain": [
       "   longitude  latitude  housing_median_age  total_rooms  total_bedrooms  \\\n",
       "0    -122.23     37.88                41.0        880.0           129.0   \n",
       "1    -122.22     37.86                21.0       7099.0          1106.0   \n",
       "2    -122.24     37.85                52.0       1467.0           190.0   \n",
       "3    -122.25     37.85                52.0       1274.0           235.0   \n",
       "4    -122.25     37.85                52.0       1627.0           280.0   \n",
       "\n",
       "   population  households  median_income  median_house_value ocean_proximity  \n",
       "0       322.0       126.0         8.3252            452600.0        NEAR BAY  \n",
       "1      2401.0      1138.0         8.3014            358500.0        NEAR BAY  \n",
       "2       496.0       177.0         7.2574            352100.0        NEAR BAY  \n",
       "3       558.0       219.0         5.6431            341300.0        NEAR BAY  \n",
       "4       565.0       259.0         3.8462            342200.0        NEAR BAY  "
      ]
     },
     "execution_count": 5,
     "metadata": {},
     "output_type": "execute_result"
    }
   ],
   "source": [
    "df.head()\n"
   ]
  },
  {
   "cell_type": "code",
   "execution_count": 6,
   "id": "1e6b20ca",
   "metadata": {},
   "outputs": [],
   "source": [
    "df.columns = df.columns.str.lower().str.replace(\" \", \"_\")"
   ]
  },
  {
   "cell_type": "code",
   "execution_count": 7,
   "id": "846e0ba3",
   "metadata": {},
   "outputs": [],
   "source": [
    "string_columns = list(df.dtypes[df.dtypes == 'object'].index)"
   ]
  },
  {
   "cell_type": "code",
   "execution_count": 8,
   "id": "054734e2",
   "metadata": {},
   "outputs": [],
   "source": [
    "for string_col in string_columns:\n",
    "    df[string_col] = df[string_col].str.lower().str.replace(\" \", \"_\")"
   ]
  },
  {
   "cell_type": "code",
   "execution_count": 9,
   "id": "e7f3f590",
   "metadata": {},
   "outputs": [
    {
     "data": {
      "image/png": "[encoded data removed]",
      "text/plain": [
       "<Figure size 600x400 with 1 Axes>"
      ]
     },
     "metadata": {},
     "output_type": "display_data"
    }
   ],
   "source": [
    "#prequestion\n",
    "plt.figure(figsize=(6, 4))\n",
    "\n",
    "sns.histplot(df.median_house_value, bins=100, color='black', alpha=1)\n",
    "plt.ylabel('Frequency')\n",
    "plt.xlabel('Price')\n",
    "plt.title('Distribution of median_house_value')\n",
    "\n",
    "plt.show()"
   ]
  },
  {
   "cell_type": "code",
   "execution_count": 10,
   "id": "3000c232",
   "metadata": {},
   "outputs": [
    {
     "data": {
      "image/png": "[encoded data removed]",
      "text/plain": [
       "<Figure size 600x400 with 1 Axes>"
      ]
     },
     "metadata": {},
     "output_type": "display_data"
    }
   ],
   "source": [
    "plt.figure(figsize=(6, 4))\n",
    "\n",
    "sns.histplot(df.median_house_value[df.median_house_value < 500000], bins=100, color='black', alpha=1)\n",
    "plt.ylabel('Frequency')\n",
    "plt.xlabel('Price')\n",
    "plt.title('Distribution of prices')\n",
    "\n",
    "plt.show()\n"
   ]
  },
  {
   "cell_type": "code",
   "execution_count": 11,
   "id": "70598917",
   "metadata": {},
   "outputs": [
    {
     "data": {
      "image/png": "[encoded data removed]",
      "text/plain": [
       "<Figure size 600x400 with 1 Axes>"
      ]
     },
     "metadata": {},
     "output_type": "display_data"
    }
   ],
   "source": [
    "log_price = np.log1p(df.median_house_value[df.median_house_value < 500000])\n",
    "\n",
    "plt.figure(figsize=(6, 4))\n",
    "\n",
    "sns.histplot(log_price, bins=100, color='black', alpha=1)\n",
    "plt.ylabel('Frequency')\n",
    "plt.xlabel('Log(Price + 1)')\n",
    "plt.title('Distribution of prices after log tranformation')\n",
    "\n",
    "plt.show()\n",
    "\n"
   ]
  },
  {
   "cell_type": "code",
   "execution_count": 12,
   "id": "81bbb90d",
   "metadata": {},
   "outputs": [],
   "source": [
    "# preparing dataset\n",
    "\n",
    "df = df[(df.ocean_proximity == '<1H_OCEAN'.lower()) | (df.ocean_proximity == 'INLAND'.lower())]\n"
   ]
  },
  {
   "cell_type": "code",
   "execution_count": 13,
   "id": "d7a0e5b0",
   "metadata": {},
   "outputs": [
    {
     "data": {
      "text/plain": [
       "array(['<1h_ocean', 'inland'], dtype=object)"
      ]
     },
     "execution_count": 13,
     "metadata": {},
     "output_type": "execute_result"
    }
   ],
   "source": [
    "df['ocean_proximity'].unique()"
   ]
  },
  {
   "cell_type": "code",
   "execution_count": 14,
   "id": "63eecd66",
   "metadata": {},
   "outputs": [],
   "source": [
    "columns_to_select = [\n",
    "    'latitude',\n",
    "    'longitude',\n",
    "    'housing_median_age',\n",
    "    'total_rooms',\n",
    "    'total_bedrooms',\n",
    "    'population',\n",
    "    'households',\n",
    "    'median_income',\n",
    "    'median_house_value'\n",
    "]"
   ]
  },
  {
   "cell_type": "code",
   "execution_count": 15,
   "id": "3b561bb3",
   "metadata": {},
   "outputs": [],
   "source": [
    "df = df[columns_to_select]"
   ]
  },
  {
   "cell_type": "code",
   "execution_count": 16,
   "id": "68056c76",
   "metadata": {},
   "outputs": [
    {
     "data": {
      "text/html": [
       "<div>\n",
       "<style scoped>\n",
       "    .dataframe tbody tr th:only-of-type {\n",
       "        vertical-align: middle;\n",
       "    }\n",
       "\n",
       "    .dataframe tbody tr th {\n",
       "        vertical-align: top;\n",
       "    }\n",
       "\n",
       "    .dataframe thead th {\n",
       "        text-align: right;\n",
       "    }\n",
       "</style>\n",
       "<table border=\"1\" class=\"dataframe\">\n",
       "  <thead>\n",
       "    <tr style=\"text-align: right;\">\n",
       "      <th></th>\n",
       "      <th>latitude</th>\n",
       "      <th>longitude</th>\n",
       "      <th>housing_median_age</th>\n",
       "      <th>total_rooms</th>\n",
       "      <th>total_bedrooms</th>\n",
       "      <th>population</th>\n",
       "      <th>households</th>\n",
       "      <th>median_income</th>\n",
       "      <th>median_house_value</th>\n",
       "    </tr>\n",
       "  </thead>\n",
       "  <tbody>\n",
       "    <tr>\n",
       "      <th>701</th>\n",
       "      <td>37.64</td>\n",
       "      <td>-121.97</td>\n",
       "      <td>32.0</td>\n",
       "      <td>1283.0</td>\n",
       "      <td>194.0</td>\n",
       "      <td>485.0</td>\n",
       "      <td>171.0</td>\n",
       "      <td>6.0574</td>\n",
       "      <td>431000.0</td>\n",
       "    </tr>\n",
       "    <tr>\n",
       "      <th>830</th>\n",
       "      <td>37.61</td>\n",
       "      <td>-121.99</td>\n",
       "      <td>9.0</td>\n",
       "      <td>3666.0</td>\n",
       "      <td>711.0</td>\n",
       "      <td>2341.0</td>\n",
       "      <td>703.0</td>\n",
       "      <td>4.6458</td>\n",
       "      <td>217000.0</td>\n",
       "    </tr>\n",
       "    <tr>\n",
       "      <th>859</th>\n",
       "      <td>37.57</td>\n",
       "      <td>-121.97</td>\n",
       "      <td>21.0</td>\n",
       "      <td>4342.0</td>\n",
       "      <td>783.0</td>\n",
       "      <td>2172.0</td>\n",
       "      <td>789.0</td>\n",
       "      <td>4.6146</td>\n",
       "      <td>247600.0</td>\n",
       "    </tr>\n",
       "    <tr>\n",
       "      <th>860</th>\n",
       "      <td>37.58</td>\n",
       "      <td>-121.96</td>\n",
       "      <td>15.0</td>\n",
       "      <td>3575.0</td>\n",
       "      <td>597.0</td>\n",
       "      <td>1777.0</td>\n",
       "      <td>559.0</td>\n",
       "      <td>5.7192</td>\n",
       "      <td>283500.0</td>\n",
       "    </tr>\n",
       "    <tr>\n",
       "      <th>861</th>\n",
       "      <td>37.58</td>\n",
       "      <td>-121.98</td>\n",
       "      <td>20.0</td>\n",
       "      <td>4126.0</td>\n",
       "      <td>1031.0</td>\n",
       "      <td>2079.0</td>\n",
       "      <td>975.0</td>\n",
       "      <td>3.6832</td>\n",
       "      <td>216900.0</td>\n",
       "    </tr>\n",
       "  </tbody>\n",
       "</table>\n",
       "</div>"
      ],
      "text/plain": [
       "     latitude  longitude  housing_median_age  total_rooms  total_bedrooms  \\\n",
       "701     37.64    -121.97                32.0       1283.0           194.0   \n",
       "830     37.61    -121.99                 9.0       3666.0           711.0   \n",
       "859     37.57    -121.97                21.0       4342.0           783.0   \n",
       "860     37.58    -121.96                15.0       3575.0           597.0   \n",
       "861     37.58    -121.98                20.0       4126.0          1031.0   \n",
       "\n",
       "     population  households  median_income  median_house_value  \n",
       "701       485.0       171.0         6.0574            431000.0  \n",
       "830      2341.0       703.0         4.6458            217000.0  \n",
       "859      2172.0       789.0         4.6146            247600.0  \n",
       "860      1777.0       559.0         5.7192            283500.0  \n",
       "861      2079.0       975.0         3.6832            216900.0  "
      ]
     },
     "execution_count": 16,
     "metadata": {},
     "output_type": "execute_result"
    }
   ],
   "source": [
    "df.head()"
   ]
  },
  {
   "cell_type": "code",
   "execution_count": 17,
   "id": "e6432bc9",
   "metadata": {},
   "outputs": [
    {
     "name": "stdout",
     "output_type": "stream",
     "text": [
      "total_bedrooms\n"
     ]
    }
   ],
   "source": [
    "# question 1\n",
    "for index, value in df.isnull().sum().items():\n",
    "    if value > 0:\n",
    "        print(index)"
   ]
  },
  {
   "cell_type": "code",
   "execution_count": 18,
   "id": "2ec88efe",
   "metadata": {},
   "outputs": [
    {
     "data": {
      "text/plain": [
       "1195.0"
      ]
     },
     "execution_count": 18,
     "metadata": {},
     "output_type": "execute_result"
    }
   ],
   "source": [
    "# question 2\n",
    "df.population.median()"
   ]
  },
  {
   "cell_type": "code",
   "execution_count": 19,
   "id": "1f570e3f",
   "metadata": {},
   "outputs": [],
   "source": [
    "# Prepare and split the dataset\n",
    "\n",
    "#     Shuffle the dataset (the filtered one you created above), use seed 42.\n",
    "#     Split your data in train/val/test sets, with 60%/20%/20% distribution.\n",
    "#     Apply the log transformation to the median_house_value variable using the np.log1p() function.\n"
   ]
  },
  {
   "cell_type": "code",
   "execution_count": 20,
   "id": "0b884011",
   "metadata": {},
   "outputs": [],
   "source": [
    "np.random.seed(42)\n",
    "\n",
    "\n",
    "n = len(df)\n",
    "index = np.arange(n)\n",
    "\n",
    "np.random.shuffle(index)\n",
    "\n",
    "n_train = int(n*0.6)\n",
    "n_val = int(n*0.2)\n",
    "n_test = n - n_train - n_val\n",
    "\n",
    "df_train = df.iloc[index[:n_train]]\n",
    "df_val = df.iloc[index[n_train: n_train + n_val]]\n",
    "df_test = df.iloc[index[n_train + n_val:]]\n",
    "\n",
    "y_train = df_train.median_house_value\n",
    "y_val = df_val.median_house_value\n",
    "y_test = df_test.median_house_value"
   ]
  },
  {
   "cell_type": "code",
   "execution_count": 21,
   "id": "976aff3c",
   "metadata": {},
   "outputs": [
    {
     "data": {
      "text/plain": [
       "((9412, 8), (3137, 8), (3138, 8))"
      ]
     },
     "execution_count": 21,
     "metadata": {},
     "output_type": "execute_result"
    }
   ],
   "source": [
    "del df_train['median_house_value']\n",
    "del df_val['median_house_value']\n",
    "del df_test['median_house_value']\n",
    "\n",
    "df_train.shape, df_val.shape, df_test.shape\n",
    "\n"
   ]
  },
  {
   "cell_type": "code",
   "execution_count": 22,
   "id": "0e4553a1",
   "metadata": {},
   "outputs": [],
   "source": [
    "# question 3\n"
   ]
  },
  {
   "cell_type": "code",
   "execution_count": 23,
   "id": "3028952a",
   "metadata": {},
   "outputs": [],
   "source": [
    "columns_to_model = list.copy(columns_to_select)\n",
    "columns_to_model.remove('median_house_value')"
   ]
  },
  {
   "cell_type": "code",
   "execution_count": 24,
   "id": "44599f43",
   "metadata": {},
   "outputs": [],
   "source": [
    "y_train_log = np.log1p(y_train)\n",
    "y_val_log = np.log1p(y_val)\n",
    "y_test_log = np.log1p(y_test)"
   ]
  },
  {
   "cell_type": "code",
   "execution_count": 25,
   "id": "eebc56b0",
   "metadata": {},
   "outputs": [],
   "source": [
    "def mrse(y_val, y):\n",
    "    se = y_val - y\n",
    "    sse = se ** 2\n",
    "    mse = sse.mean()\n",
    "    return(np.sqrt(mse))"
   ]
  },
  {
   "cell_type": "code",
   "execution_count": 26,
   "id": "3fdd2d2e",
   "metadata": {},
   "outputs": [],
   "source": [
    "def prepare_x_values(df, columns_name, fill_zeros_value):\n",
    "    df = df.copy()\n",
    "\n",
    "    df_num = df[columns_name]\n",
    "    df_num = df_num.fillna(fill_zeros_value)\n",
    "    X = df_num.values\n",
    "    return X"
   ]
  },
  {
   "cell_type": "code",
   "execution_count": 27,
   "id": "6ef1bc7d",
   "metadata": {},
   "outputs": [],
   "source": [
    "def train_linear_regression(X, y):\n",
    "    ones = np.ones(X.shape[0])\n",
    "    X = np.column_stack([ones, X])\n",
    "    \n",
    "    XTX = X.T.dot(X)\n",
    "    XTX_inv = np.linalg.inv(XTX)\n",
    "    w_full = XTX_inv.dot(X.T).dot(y)\n",
    "    \n",
    "    return(w_full[0], w_full[1:])"
   ]
  },
  {
   "cell_type": "code",
   "execution_count": 28,
   "id": "5ede7e91",
   "metadata": {},
   "outputs": [],
   "source": [
    "X_train_1 = prepare_x_values(df_train, columns_to_model, 0)\n",
    "X_val_1 = prepare_x_values(df_val, columns_to_model, 0)"
   ]
  },
  {
   "cell_type": "code",
   "execution_count": 29,
   "id": "7e3e4b79",
   "metadata": {},
   "outputs": [],
   "source": [
    "w0, w = train_linear_regression(X_train_1, y_train_log)"
   ]
  },
  {
   "cell_type": "code",
   "execution_count": 30,
   "id": "2418ff0d",
   "metadata": {},
   "outputs": [
    {
     "data": {
      "text/plain": [
       "(-9.760282389383054,\n",
       " array([-2.68175850e-01, -2.55894354e-01,  1.78278062e-03, -3.37898192e-05,\n",
       "         2.93842680e-04, -1.52111419e-04,  3.96416869e-04,  1.80614799e-01]))"
      ]
     },
     "execution_count": 30,
     "metadata": {},
     "output_type": "execute_result"
    }
   ],
   "source": [
    "w0, w"
   ]
  },
  {
   "cell_type": "code",
   "execution_count": 31,
   "id": "3339477a",
   "metadata": {},
   "outputs": [
    {
     "data": {
      "text/plain": [
       "0.34"
      ]
     },
     "execution_count": 31,
     "metadata": {},
     "output_type": "execute_result"
    }
   ],
   "source": [
    "y_pred = w0 + X_val_1.dot(w)\n",
    "round(mrse(y_pred, y_val_log), 2)"
   ]
  },
  {
   "cell_type": "code",
   "execution_count": 32,
   "id": "794f15dc",
   "metadata": {},
   "outputs": [
    {
     "data": {
      "text/plain": [
       "<Axes: xlabel='median_house_value', ylabel='Count'>"
      ]
     },
     "execution_count": 32,
     "metadata": {},
     "output_type": "execute_result"
    },
    {
     "data": {
      "image/png": "[encoded data removed]",
      "text/plain": [
       "<Figure size 640x480 with 1 Axes>"
      ]
     },
     "metadata": {},
     "output_type": "display_data"
    }
   ],
   "source": [
    "sns.histplot(y_train_log, color = 'blue')\n",
    "sns.histplot(y_val_log, color = 'red')\n",
    "sns.histplot(y_pred, color = 'green')"
   ]
  },
  {
   "cell_type": "code",
   "execution_count": 33,
   "id": "ca0d90ba",
   "metadata": {},
   "outputs": [
    {
     "data": {
      "text/plain": [
       "542.563854904486"
      ]
     },
     "execution_count": 33,
     "metadata": {},
     "output_type": "execute_result"
    }
   ],
   "source": [
    "# find mean value\n",
    "df_train.total_bedrooms.mean()"
   ]
  },
  {
   "cell_type": "code",
   "execution_count": 34,
   "id": "f3625408",
   "metadata": {},
   "outputs": [
    {
     "data": {
      "text/plain": [
       "0.34"
      ]
     },
     "execution_count": 34,
     "metadata": {},
     "output_type": "execute_result"
    }
   ],
   "source": [
    "X_train_2 = prepare_x_values(df_train, columns_to_model, 542.56)\n",
    "X_val_2 = prepare_x_values(df_val, columns_to_model, 0)\n",
    "w0, w = train_linear_regression(X_train_2, y_train_log)\n",
    "y_pred = w0 + X_val_2.dot(w)\n",
    "round(mrse(y_pred, y_val_log), 2)\n"
   ]
  },
  {
   "cell_type": "code",
   "execution_count": 35,
   "id": "c9baf403",
   "metadata": {},
   "outputs": [],
   "source": [
    "# answer for question 3:\n",
    "# both are eqally good: 0.34 vs 0.34"
   ]
  },
  {
   "cell_type": "code",
   "execution_count": 36,
   "id": "b765c747",
   "metadata": {},
   "outputs": [],
   "source": [
    "#question 4"
   ]
  },
  {
   "cell_type": "code",
   "execution_count": 37,
   "id": "9f7c1376",
   "metadata": {},
   "outputs": [],
   "source": [
    "def train_linear_regression_reg(X, y, r=0.001):\n",
    "    ones = np.ones(X.shape[0])\n",
    "    X = np.column_stack([ones, X])\n",
    "    \n",
    "    XTX = X.T.dot(X)\n",
    "    XTX += r * np.eye(XTX.shape[0])\n",
    "    XTX_inv = np.linalg.inv(XTX)\n",
    "    w_full = XTX_inv.dot(X.T).dot(y)\n",
    "    \n",
    "    return(w_full[0], w_full[1:])"
   ]
  },
  {
   "cell_type": "code",
   "execution_count": 38,
   "id": "f3c9bade",
   "metadata": {},
   "outputs": [
    {
     "name": "stdout",
     "output_type": "stream",
     "text": [
      "0 -9.760282389383054 0.34\n",
      "1e-06 -9.760261748487883 0.34\n",
      "0.0001 -9.75821872434113 0.34\n",
      "0.001 -9.739684920341396 0.34\n",
      "0.01 -9.558145712182068 0.34\n",
      "0.1 -8.056406239488537 0.34\n",
      "1 -3.132149833701119 0.34\n",
      "5 -0.8408119245924143 0.35\n",
      "10 -0.43797333730198207 0.35\n"
     ]
    }
   ],
   "source": [
    "X_train = prepare_x_values(df_train, columns_to_model, 0)\n",
    "X_val = prepare_x_values(df_val, columns_to_model, 0)\n",
    "for r in [0, 0.000001, 0.0001, 0.001, 0.01, 0.1, 1, 5, 10]:\n",
    "    w0, w = train_linear_regression_reg(X_train, y_train_log, r)\n",
    "    y_pred = w0 + X_val_2.dot(w)\n",
    "    mrserror = mrse(y_pred, y_val_log)\n",
    "    print(r, w0, round(mrserror,2))"
   ]
  },
  {
   "cell_type": "code",
   "execution_count": 39,
   "id": "60110921",
   "metadata": {},
   "outputs": [],
   "source": [
    "# answer for question 4 is 0"
   ]
  },
  {
   "cell_type": "code",
   "execution_count": 40,
   "id": "c903bef0",
   "metadata": {},
   "outputs": [],
   "source": [
    "# question 5"
   ]
  },
  {
   "cell_type": "code",
   "execution_count": 41,
   "id": "bafb0a2c",
   "metadata": {},
   "outputs": [],
   "source": [
    "def generate_datasets(df, seed):\n",
    "    n = len(df)\n",
    "    index = np.arange(n)\n",
    "    np.random.seed(seed)\n",
    "    np.random.shuffle(index)\n",
    "\n",
    "    n_train = int(n*0.6)\n",
    "    n_val = int(n*0.2)\n",
    "    n_test = n - n_train - n_val\n",
    "    n, n_train, n_val, n_test\n",
    "\n",
    "    df_train = df.iloc[index[:n_train]]\n",
    "    df_val = df.iloc[index[n_train: n_train + n_val]]\n",
    "    df_test = df.iloc[index[n_train + n_val:]]\n",
    "\n",
    "    y_train = df_train.median_house_value\n",
    "    y_val = df_val.median_house_value\n",
    "    y_test = df_test.median_house_value\n",
    "    \n",
    "    return(df_train, y_train, df_val, y_val, df_test, y_test)\n"
   ]
  },
  {
   "cell_type": "code",
   "execution_count": 42,
   "id": "c0f00a69",
   "metadata": {},
   "outputs": [],
   "source": [
    "def train_and_evaluate_model(df_x_tr, df_x_val, data_columns, y_tr, y_val, fil_if_na = 0):\n",
    "    X_train = prepare_x_values(df_x_tr, data_columns, fil_if_na)\n",
    "    X_val = prepare_x_values(df_x_val, data_columns, 0)\n",
    "    w0, w = train_linear_regression(X_train, np.log1p(y_tr))\n",
    "    y_pred = w0 + X_val.dot(w)\n",
    "    mrserror = mrse(y_pred, np.log1p(y_val))\n",
    "    return(mrserror)"
   ]
  },
  {
   "cell_type": "code",
   "execution_count": 43,
   "id": "bfd1b4b8",
   "metadata": {},
   "outputs": [
    {
     "name": "stdout",
     "output_type": "stream",
     "text": [
      "0 0.3377846115259249\n",
      "1 0.33780665430132245\n",
      "2 0.3384604473173376\n",
      "3 0.3320086319057976\n",
      "4 0.3394449206960175\n",
      "5 0.343378078148394\n",
      "6 0.33853387112904015\n",
      "7 0.34814297152856816\n",
      "8 0.3512727798511822\n",
      "9 0.33416623731700995\n"
     ]
    }
   ],
   "source": [
    "rmse_scores = []\n",
    "for seed in [0, 1, 2, 3, 4, 5, 6, 7, 8, 9]:\n",
    "    df_train, y_train, df_val, y_val, df_test, y_test = generate_datasets(df, seed)\n",
    "    del df_train['median_house_value']\n",
    "    score = train_and_evaluate_model(df_train, df_val, columns_to_model, y_train, y_val, fil_if_na = 0)\n",
    "    print(seed, score)\n",
    "    rmse_scores.append(score)"
   ]
  },
  {
   "cell_type": "code",
   "execution_count": 44,
   "id": "efa5df1e",
   "metadata": {},
   "outputs": [
    {
     "data": {
      "text/plain": [
       "0.006"
      ]
     },
     "execution_count": 44,
     "metadata": {},
     "output_type": "execute_result"
    }
   ],
   "source": [
    "round(np.std(rmse_scores),3)"
   ]
  },
  {
   "cell_type": "code",
   "execution_count": 45,
   "id": "95d5a0e9",
   "metadata": {},
   "outputs": [],
   "source": [
    "# question 6"
   ]
  },
  {
   "cell_type": "code",
   "execution_count": 46,
   "id": "455466f9",
   "metadata": {},
   "outputs": [],
   "source": [
    "df_train, y_train, df_val, y_val, df_test, y_test = generate_datasets(df, 9)"
   ]
  },
  {
   "cell_type": "code",
   "execution_count": 47,
   "id": "7e6122d8",
   "metadata": {},
   "outputs": [],
   "source": [
    "df_full_train = pd.concat([df_train, df_val])\n",
    "y_full_train = np.concatenate([y_train, y_val])"
   ]
  },
  {
   "cell_type": "code",
   "execution_count": 48,
   "id": "c043ed82",
   "metadata": {},
   "outputs": [
    {
     "name": "stdout",
     "output_type": "stream",
     "text": [
      "0.33\n"
     ]
    }
   ],
   "source": [
    "X_full_train = prepare_x_values(df_full_train, columns_to_model, 0)\n",
    "w0, w = train_linear_regression_reg(X_full_train, np.log1p(y_full_train), 0.001)\n",
    "\n",
    "X_test = prepare_x_values(df_test, columns_to_model, 0)\n",
    "X_test.shape\n",
    "y_pred = w0 + X_test.dot(w)\n",
    "mrserror = mrse(y_pred, np.log1p(y_test))\n",
    "\n",
    "print(np.round(mrserror, 2))\n"
   ]
  },
  {
   "cell_type": "code",
   "execution_count": null,
   "id": "fb438a90",
   "metadata": {},
   "outputs": [],
   "source": []
  }
 ],
 "metadata": {
  "kernelspec": {
   "display_name": "Python 3 (ipykernel)",
   "language": "python",
   "name": "python3"
  },
  "language_info": {
   "codemirror_mode": {
    "name": "ipython",
    "version": 3
   },
   "file_extension": ".py",
   "mimetype": "text/x-python",
   "name": "python",
   "nbconvert_exporter": "python",
   "pygments_lexer": "ipython3",
   "version": "3.9.18"
  }
 },
 "nbformat": 4,
 "nbformat_minor": 5
}
